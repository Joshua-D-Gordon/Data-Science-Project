{
 "cells": [
  {
   "cell_type": "code",
   "execution_count": 1,
   "metadata": {},
   "outputs": [],
   "source": [
    "#Q1\n",
    "\n",
    "#X\n",
    "    "
   ]
  },
  {
   "cell_type": "code",
   "execution_count": 3,
   "metadata": {},
   "outputs": [
    {
     "data": {
      "text/html": [
       "<div>\n",
       "<style scoped>\n",
       "    .dataframe tbody tr th:only-of-type {\n",
       "        vertical-align: middle;\n",
       "    }\n",
       "\n",
       "    .dataframe tbody tr th {\n",
       "        vertical-align: top;\n",
       "    }\n",
       "\n",
       "    .dataframe thead th {\n",
       "        text-align: right;\n",
       "    }\n",
       "</style>\n",
       "<table border=\"1\" class=\"dataframe\">\n",
       "  <thead>\n",
       "    <tr style=\"text-align: right;\">\n",
       "      <th></th>\n",
       "      <th>title</th>\n",
       "      <th>year</th>\n",
       "      <th>name</th>\n",
       "      <th>type</th>\n",
       "      <th>character</th>\n",
       "      <th>n</th>\n",
       "    </tr>\n",
       "  </thead>\n",
       "  <tbody>\n",
       "    <tr>\n",
       "      <th>0</th>\n",
       "      <td>Suuri illusioni</td>\n",
       "      <td>1985</td>\n",
       "      <td>Homo $</td>\n",
       "      <td>actor</td>\n",
       "      <td>Guests</td>\n",
       "      <td>22.0</td>\n",
       "    </tr>\n",
       "    <tr>\n",
       "      <th>1</th>\n",
       "      <td>Gangsta Rap: The Glockumentary</td>\n",
       "      <td>2007</td>\n",
       "      <td>Too $hort</td>\n",
       "      <td>actor</td>\n",
       "      <td>Himself</td>\n",
       "      <td>NaN</td>\n",
       "    </tr>\n",
       "    <tr>\n",
       "      <th>2</th>\n",
       "      <td>Menace II Society</td>\n",
       "      <td>1993</td>\n",
       "      <td>Too $hort</td>\n",
       "      <td>actor</td>\n",
       "      <td>Lew-Loc</td>\n",
       "      <td>27.0</td>\n",
       "    </tr>\n",
       "    <tr>\n",
       "      <th>3</th>\n",
       "      <td>Porndogs: The Adventures of Sadie</td>\n",
       "      <td>2009</td>\n",
       "      <td>Too $hort</td>\n",
       "      <td>actor</td>\n",
       "      <td>Bosco</td>\n",
       "      <td>3.0</td>\n",
       "    </tr>\n",
       "    <tr>\n",
       "      <th>4</th>\n",
       "      <td>Stop Pepper Palmer</td>\n",
       "      <td>2014</td>\n",
       "      <td>Too $hort</td>\n",
       "      <td>actor</td>\n",
       "      <td>Himself</td>\n",
       "      <td>NaN</td>\n",
       "    </tr>\n",
       "  </tbody>\n",
       "</table>\n",
       "</div>"
      ],
      "text/plain": [
       "                               title  year       name   type character     n\n",
       "0                    Suuri illusioni  1985     Homo $  actor    Guests  22.0\n",
       "1     Gangsta Rap: The Glockumentary  2007  Too $hort  actor   Himself   NaN\n",
       "2                  Menace II Society  1993  Too $hort  actor   Lew-Loc  27.0\n",
       "3  Porndogs: The Adventures of Sadie  2009  Too $hort  actor     Bosco   3.0\n",
       "4                 Stop Pepper Palmer  2014  Too $hort  actor   Himself   NaN"
      ]
     },
     "execution_count": 3,
     "metadata": {},
     "output_type": "execute_result"
    }
   ],
   "source": [
    "#Q2\n",
    "\n",
    "import pandas as pd\n",
    "\n",
    "cast = pd.read_csv(r'C:\\Users\\Joshua Student\\Downloads\\cast_dataset.csv')\n",
    "cast.head()"
   ]
  },
  {
   "cell_type": "code",
   "execution_count": 4,
   "metadata": {
    "scrolled": false
   },
   "outputs": [
    {
     "name": "stdout",
     "output_type": "stream",
     "text": [
      "there are  299 amounts of titles with Hamlet\n"
     ]
    }
   ],
   "source": [
    "#1\n",
    "hamlets = cast.title.value_counts()['Hamlet']\n",
    "print(\"there are \", hamlets , \"amounts of titles with Hamlet\")"
   ]
  },
  {
   "cell_type": "code",
   "execution_count": 6,
   "metadata": {},
   "outputs": [
    {
     "name": "stdout",
     "output_type": "stream",
     "text": [
      "                   title  year                  name     type  \\\n",
      "1312766  Treasure Island  1918       Herschel Mayall    actor   \n",
      "3280557  Treasure Island  1918    Eleanor Washington  actress   \n",
      "3046750  Treasure Island  1918      Violet Radcliffe  actress   \n",
      "1167783  Treasure Island  1918           Raymond Lee    actor   \n",
      "1195421  Treasure Island  1918          Elmo Lincoln    actor   \n",
      "...                  ...   ...                   ...      ...   \n",
      "1663860  Treasure Island  1999  Victor Raider-Wexler    actor   \n",
      "1731182  Treasure Island  1999  Scot Thomas Robinson    actor   \n",
      "1813707  Treasure Island  1999        Richard Schave    actor   \n",
      "2710458  Treasure Island  1999    Stephanie Ittleson  actress   \n",
      "815338   Treasure Island  1999          Rio Hackford    actor   \n",
      "\n",
      "                character     n  \n",
      "1312766   Prologue Player   NaN  \n",
      "3280557   Prologue Player   NaN  \n",
      "3046750  Long John Silver   3.0  \n",
      "1167783          Bit Role   NaN  \n",
      "1195421   Prologue Player   NaN  \n",
      "...                   ...   ...  \n",
      "1663860          Samowitz  10.0  \n",
      "1731182             Jimmy  11.0  \n",
      "1813707               Man  21.0  \n",
      "2710458            Stella   7.0  \n",
      "815338               Hans  23.0  \n",
      "\n",
      "[187 rows x 6 columns]\n"
     ]
    }
   ],
   "source": [
    "#2\n",
    "print(cast[cast.title == \"Treasure Island\"].sort_values(by='year'))"
   ]
  },
  {
   "cell_type": "code",
   "execution_count": 8,
   "metadata": {},
   "outputs": [
    {
     "name": "stdout",
     "output_type": "stream",
     "text": [
      "9 roles were credited in the silent 1921 version of Hamlet\n"
     ]
    }
   ],
   "source": [
    "#3\n",
    "x = len(cast[(cast.title == \"Hamlet\") & (cast.year == 1921)])\n",
    "print(x,\"roles were credited in the silent 1921 version of Hamlet\")"
   ]
  },
  {
   "cell_type": "code",
   "execution_count": 29,
   "metadata": {},
   "outputs": [
    {
     "data": {
      "text/plain": [
       "<AxesSubplot:xlabel='year'>"
      ]
     },
     "execution_count": 29,
     "metadata": {},
     "output_type": "execute_result"
    },
    {
     "data": {
      "image/png": "[encoded data removed]",
      "text/plain": [
       "<Figure size 432x288 with 1 Axes>"
      ]
     },
     "metadata": {
      "needs_background": "light"
     },
     "output_type": "display_data"
    }
   ],
   "source": [
    "#4\n",
    "\n",
    "df = cast[(cast.title == \"Hamlet\")]\n",
    "new_df = df.groupby(df.year// 10 * 10).size()\n",
    "new_df.plot(kind = 'bar')"
   ]
  },
  {
   "cell_type": "code",
   "execution_count": 31,
   "metadata": {},
   "outputs": [
    {
     "name": "stdout",
     "output_type": "stream",
     "text": [
      "604 men\n",
      "271 women\n"
     ]
    }
   ],
   "source": [
    "#5\n",
    "men = len(cast[\n",
    "    (cast.year == 1950) &\n",
    "    (cast.n == 1) & (cast.type == 'actor')\n",
    "])\n",
    "print(men ,\"men\")\n",
    "\n",
    "women = len(cast[\n",
    "    (cast.year == 1950) &\n",
    "    (cast.n == 1) & (cast.type == 'actress')\n",
    "])\n",
    "print(women, \"women\")"
   ]
  },
  {
   "cell_type": "code",
   "execution_count": 32,
   "metadata": {},
   "outputs": [
    {
     "name": "stdout",
     "output_type": "stream",
     "text": [
      "                    title  year              name   type  \\\n",
      "2103152             Sethu  1999  'Chiyaan' Vikram  actor   \n",
      "2103153        Thaandavam  2012  'Chiyaan' Vikram  actor   \n",
      "2103126           Anniyan  2005  'Chiyaan' Vikram  actor   \n",
      "2103127           Anniyan  2005  'Chiyaan' Vikram  actor   \n",
      "2103128           Anniyan  2005  'Chiyaan' Vikram  actor   \n",
      "2103129              Arul  2004  'Chiyaan' Vikram  actor   \n",
      "2103131           Bheemaa  2008  'Chiyaan' Vikram  actor   \n",
      "2103132             David  2013  'Chiyaan' Vikram  actor   \n",
      "2103133  Deiva Thirumagal  2011  'Chiyaan' Vikram  actor   \n",
      "2103134             Dhill  2001  'Chiyaan' Vikram  actor   \n",
      "\n",
      "                              character    n  \n",
      "2103152                           Sethu  1.0  \n",
      "2103153                           Shiva  1.0  \n",
      "2103126  Rules Ramanujam 'Ambi' Iyengar  1.0  \n",
      "2103127                            Remo  1.0  \n",
      "2103128                         Anniyan  1.0  \n",
      "2103129                            Arul  1.0  \n",
      "2103131                          Bheema  1.0  \n",
      "2103132                           David  1.0  \n",
      "2103133                         Krishna  1.0  \n",
      "2103134                      Kanagavelu  1.0  \n"
     ]
    }
   ],
   "source": [
    "#6\n",
    "print(cast[\n",
    "    (cast.year >= 1990) &\n",
    "    (cast.n == 1)\n",
    "].sort_values(by='name').head(10))\n",
    "\n",
    "df = cast[(cast.n == 1)].count_values"
   ]
  },
  {
   "cell_type": "code",
   "execution_count": 41,
   "metadata": {},
   "outputs": [
    {
     "data": {
      "text/plain": [
       "title        63243\n",
       "year         63243\n",
       "name         63243\n",
       "type         63243\n",
       "character    63243\n",
       "n            63243\n",
       "dtype: int64"
      ]
     },
     "execution_count": 41,
     "metadata": {},
     "output_type": "execute_result"
    }
   ],
   "source": [
    "#6\n",
    "df = cast[(cast.n == 1) & (cast.year > 1990)].sort_values(by='name')\n",
    "df.count()\n",
    "\n",
    "lst =  []\n",
    "\n",
    "for i in df:\n"
   ]
  },
  {
   "cell_type": "code",
   "execution_count": 58,
   "metadata": {},
   "outputs": [
    {
     "name": "stdout",
     "output_type": "stream",
     "text": [
      "year  title                                   \n",
      "1979  The Muppet Movie                            8\n",
      "1981  An American Werewolf in London              2\n",
      "      The Great Muppet Caper                      6\n",
      "1982  The Dark Crystal                            2\n",
      "1984  The Muppets Take Manhattan                  7\n",
      "1985  Sesame Street Presents: Follow that Bird    3\n",
      "1992  The Muppet Christmas Carol                  7\n",
      "1996  Muppet Treasure Island                      4\n",
      "1999  Muppets from Space                          4\n",
      "      The Adventures of Elmo in Grouchland        3\n",
      "dtype: int64\n"
     ]
    },
    {
     "data": {
      "image/png": "[encoded data removed]",
      "text/plain": [
       "<Figure size 432x288 with 1 Axes>"
      ]
     },
     "metadata": {
      "needs_background": "light"
     },
     "output_type": "display_data"
    }
   ],
   "source": [
    "#7\n",
    "\n",
    "df = cast[cast.name == 'Frank Oz']\n",
    "new_df = df.groupby(['year','title']).size()\n",
    "df = new_df[new_df > 1]\n",
    "df.plot(kind='bar')\n",
    "print(df)\n"
   ]
  },
  {
   "cell_type": "code",
   "execution_count": null,
   "metadata": {},
   "outputs": [],
   "source": []
  },
  {
   "cell_type": "code",
   "execution_count": null,
   "metadata": {},
   "outputs": [],
   "source": []
  }
 ],
 "metadata": {
  "kernelspec": {
   "display_name": "Python 3",
   "language": "python",
   "name": "python3"
  },
  "language_info": {
   "codemirror_mode": {
    "name": "ipython",
    "version": 3
   },
   "file_extension": ".py",
   "mimetype": "text/x-python",
   "name": "python",
   "nbconvert_exporter": "python",
   "pygments_lexer": "ipython3",
   "version": "3.8.5"
  }
 },
 "nbformat": 4,
 "nbformat_minor": 4
}
